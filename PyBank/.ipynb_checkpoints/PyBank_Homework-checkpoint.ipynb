{
 "cells": [
  {
   "cell_type": "code",
   "execution_count": 33,
   "metadata": {},
   "outputs": [
    {
     "name": "stdout",
     "output_type": "stream",
     "text": [
      "['Date', 'Profit/Losses']\n",
      "Financial Analysis \n",
      "----------------------------\n",
      "Total Months: 86\n",
      "Total Profit: $38,382,578\n",
      "Average  Change: $446,309\n",
      "Greatest Increase in Profits: Feb-2012 $1,170,593\n",
      "Greatest Decrease in Profits: Sep-2013 $-1,196,225\n"
     ]
    }
   ],
   "source": [
    "import csv\n",
    "\n",
    "csvpath = (\"./Resources/budget_data.csv\")\n",
    "\n",
    "month = 0\n",
    "profit_losses = 0\n",
    "date_list = []\n",
    "profit_list = []\n",
    "\n",
    "with open(csvpath, newline='') as csvfile:\n",
    "    \n",
    "    csvreader = csv.reader(csvfile, delimiter=\",\")\n",
    "    \n",
    "    csv_header = next(csvreader)\n",
    "    print(f\"{csv_header}\")\n",
    "\n",
    "    for row in csvreader:\n",
    "        month += 1\n",
    "        date_list.append(row[0])\n",
    "        profit_list.append(int(row[1]))\n",
    "        \n",
    "        \n",
    "    for i in range(len(profit_list)):\n",
    "        profit_losses += int(profit_list[i])\n",
    "        \n",
    "\n",
    "    best_month = profit_list.index(max(profit_list))\n",
    "    worst_month = profit_list.index(min(profit_list))\n",
    "    \n",
    "    print(f\"Financial Analysis \\n----------------------------\\nTotal Months: {month}\\nTotal Profit: ${profit_losses:,d}\\nAverage  Change: ${int(round(profit_losses/month,2)):,d}\\nGreatest Increase in Profits: {date_list[best_month]} ${profit_list[best_month]:,d}\\nGreatest Decrease in Profits: {date_list[worst_month]} ${profit_list[worst_month]:,d}\")\n",
    "    \n",
    "    \n",
    "    \n",
    "    "
   ]
  },
  {
   "cell_type": "code",
   "execution_count": null,
   "metadata": {},
   "outputs": [],
   "source": []
  }
 ],
 "metadata": {
  "kernelspec": {
   "display_name": "Python 3",
   "language": "python",
   "name": "python3"
  },
  "language_info": {
   "codemirror_mode": {
    "name": "ipython",
    "version": 3
   },
   "file_extension": ".py",
   "mimetype": "text/x-python",
   "name": "python",
   "nbconvert_exporter": "python",
   "pygments_lexer": "ipython3",
   "version": "3.6.5"
  }
 },
 "nbformat": 4,
 "nbformat_minor": 2
}
